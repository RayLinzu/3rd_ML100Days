{
  "nbformat": 4,
  "nbformat_minor": 0,
  "metadata": {
    "kernelspec": {
      "display_name": "Python 3",
      "language": "python",
      "name": "python3"
    },
    "language_info": {
      "codemirror_mode": {
        "name": "ipython",
        "version": 3
      },
      "file_extension": ".py",
      "mimetype": "text/x-python",
      "name": "python",
      "nbconvert_exporter": "python",
      "pygments_lexer": "ipython3",
      "version": "3.6.5"
    },
    "colab": {
      "name": "Day088_HW.ipynb",
      "provenance": [],
      "collapsed_sections": []
    }
  },
  "cells": [
    {
      "cell_type": "markdown",
      "metadata": {
        "id": "5qWLhkCoHkcm",
        "colab_type": "text"
      },
      "source": [
        "## Work\n",
        "1. 請嘗試寫一個 callback 用來記錄各類別在訓練過程中，對驗證集的 True Positive 與 True Negative"
      ]
    },
    {
      "cell_type": "code",
      "metadata": {
        "id": "sDm3DA7MHkcu",
        "colab_type": "code",
        "colab": {
          "base_uri": "https://localhost:8080/",
          "height": 79
        },
        "outputId": "c956ecbc-a02c-493c-c1d3-bb1533fa537e"
      },
      "source": [
        "import os\n",
        "import keras\n",
        "\n",
        "# Disable GPU\n",
        "os.environ[\"CUDA_VISIBLE_DEVICES\"] = \"\""
      ],
      "execution_count": 1,
      "outputs": [
        {
          "output_type": "stream",
          "text": [
            "Using TensorFlow backend.\n"
          ],
          "name": "stderr"
        },
        {
          "output_type": "display_data",
          "data": {
            "text/html": [
              "<p style=\"color: red;\">\n",
              "The default version of TensorFlow in Colab will soon switch to TensorFlow 2.x.<br>\n",
              "We recommend you <a href=\"https://www.tensorflow.org/guide/migrate\" target=\"_blank\">upgrade</a> now \n",
              "or ensure your notebook will continue to use TensorFlow 1.x via the <code>%tensorflow_version 1.x</code> magic:\n",
              "<a href=\"https://colab.research.google.com/notebooks/tensorflow_version.ipynb\" target=\"_blank\">more info</a>.</p>\n"
            ],
            "text/plain": [
              "<IPython.core.display.HTML object>"
            ]
          },
          "metadata": {
            "tags": []
          }
        }
      ]
    },
    {
      "cell_type": "code",
      "metadata": {
        "id": "qr6CwbWjHkc7",
        "colab_type": "code",
        "colab": {
          "base_uri": "https://localhost:8080/",
          "height": 50
        },
        "outputId": "f0cdd3e7-b74a-4d89-e660-28c73fe82343"
      },
      "source": [
        "train, test = keras.datasets.cifar10.load_data()"
      ],
      "execution_count": 2,
      "outputs": [
        {
          "output_type": "stream",
          "text": [
            "Downloading data from https://www.cs.toronto.edu/~kriz/cifar-10-python.tar.gz\n",
            "170500096/170498071 [==============================] - 8s 0us/step\n"
          ],
          "name": "stdout"
        }
      ]
    },
    {
      "cell_type": "code",
      "metadata": {
        "id": "_hSo67sZHkdH",
        "colab_type": "code",
        "colab": {}
      },
      "source": [
        "## 資料前處理\n",
        "def preproc_x(x, flatten=True):\n",
        "    x = x / 255.\n",
        "    if flatten:\n",
        "        x = x.reshape((len(x), -1))\n",
        "    return x\n",
        "\n",
        "def preproc_y(y, num_classes=10):\n",
        "    if y.shape[-1] == 1:\n",
        "        y = keras.utils.to_categorical(y, num_classes)\n",
        "    return y    "
      ],
      "execution_count": 0,
      "outputs": []
    },
    {
      "cell_type": "code",
      "metadata": {
        "id": "4Tm_0Q4QHkdP",
        "colab_type": "code",
        "colab": {}
      },
      "source": [
        "x_train, y_train = train\n",
        "x_test, y_test = test\n",
        "\n",
        "# Preproc the inputs\n",
        "x_train = preproc_x(x_train)\n",
        "x_test = preproc_x(x_test)\n",
        "\n",
        "# Preprc the outputs\n",
        "y_train = preproc_y(y_train)\n",
        "y_test = preproc_y(y_test)"
      ],
      "execution_count": 0,
      "outputs": []
    },
    {
      "cell_type": "code",
      "metadata": {
        "id": "9JfIvYDTHkdZ",
        "colab_type": "code",
        "colab": {}
      },
      "source": [
        "from keras.layers import BatchNormalization\n",
        "\n",
        "\"\"\"\n",
        "建立神經網路，並加入 BN layer\n",
        "\"\"\"\n",
        "def build_mlp(input_shape, output_units=10, num_neurons=[512, 256, 128]):\n",
        "    input_layer = keras.layers.Input(input_shape)\n",
        "    \n",
        "    for i, n_units in enumerate(num_neurons):\n",
        "        if i == 0:\n",
        "            x = keras.layers.Dense(units=n_units, \n",
        "                                   activation=\"relu\", \n",
        "                                   name=\"hidden_layer\"+str(i+1))(input_layer)\n",
        "            x = BatchNormalization()(x)\n",
        "        else:\n",
        "            x = keras.layers.Dense(units=n_units, \n",
        "                                   activation=\"relu\", \n",
        "                                   name=\"hidden_layer\"+str(i+1))(x)\n",
        "            x = BatchNormalization()(x)\n",
        "    \n",
        "    out = keras.layers.Dense(units=output_units, activation=\"softmax\", name=\"output\")(x)\n",
        "    \n",
        "    model = keras.models.Model(inputs=[input_layer], outputs=[out])\n",
        "    return model"
      ],
      "execution_count": 0,
      "outputs": []
    },
    {
      "cell_type": "code",
      "metadata": {
        "id": "-oviomytHkdi",
        "colab_type": "code",
        "colab": {}
      },
      "source": [
        "## 超參數設定\n",
        "LEARNING_RATE = 1e-3\n",
        "EPOCHS = 25\n",
        "BATCH_SIZE = 1024\n",
        "MOMENTUM = 0.95"
      ],
      "execution_count": 0,
      "outputs": []
    },
    {
      "cell_type": "code",
      "metadata": {
        "id": "-BcaS1uCHkdu",
        "colab_type": "code",
        "colab": {}
      },
      "source": [
        "\"\"\"\n",
        "# 載入 Callbacks，撰寫一個 true postitive and true nagitive  的 callback function\n",
        "\"\"\"\n",
        "\n",
        "from keras.callbacks import Callback\n",
        "import numpy as np\n",
        "\n",
        "class tntp(Callback):\n",
        "    def on_train_begin(self, epoch, logs = {}):\n",
        "        logs = logs or {}\n",
        "        record_items = [\"val_tp\", \"val_tn\", \"val_fp\", \"val_fn\"]\n",
        "        for i in record_items:\n",
        "            if i not in self.params['metrics']:\n",
        "                self.params['metrics'].append(i)\n",
        "    \n",
        "    def on_epoch_end(self, epoch, logs = {}, thres=0.5):\n",
        "        logs = logs or {}\n",
        "        y_true = self.validation_data[1].argmax(axis = 1)\n",
        "        y_pred = self.model.predict(self.validation_data[0])\n",
        "        y_pred = (y_pred[:, 1] >= thres) * 1\n",
        "        \n",
        "        logs[\"val_tp\"] = np.sum(np.logical_and(y_pred == 1, y_true == 1))\n",
        "        logs[\"val_tn\"] = np.sum(np.logical_and(y_pred == 0, y_true == 0))\n",
        "\n",
        "log_tntp = tntp()"
      ],
      "execution_count": 0,
      "outputs": []
    },
    {
      "cell_type": "code",
      "metadata": {
        "scrolled": true,
        "id": "zjk-vX1LHkd8",
        "colab_type": "code",
        "colab": {
          "base_uri": "https://localhost:8080/",
          "height": 1000
        },
        "outputId": "ef92d34a-9b73-4e5e-f5fa-03949d1d0766"
      },
      "source": [
        "model = build_mlp(input_shape=x_train.shape[1:])\n",
        "model.summary()\n",
        "optimizer = keras.optimizers.SGD(lr=LEARNING_RATE, nesterov=True, momentum=MOMENTUM)\n",
        "model.compile(loss=\"categorical_crossentropy\", metrics=[\"accuracy\"], optimizer=optimizer)\n",
        "\n",
        "\"\"\"Code Here\n",
        "將 callbacks 放入模型訓練流程中\n",
        "\"\"\"\n",
        "model.fit(x_train, y_train, \n",
        "          epochs=EPOCHS, \n",
        "          batch_size=BATCH_SIZE, \n",
        "          validation_data=(x_test, y_test), \n",
        "          shuffle=True,\n",
        "          callbacks=[log_tntp]\n",
        "         )\n",
        "\n",
        "# Collect results\n",
        "train_loss = model.history.history[\"loss\"]\n",
        "valid_loss = model.history.history[\"val_loss\"]\n",
        "train_acc = model.history.history[\"acc\"]\n",
        "valid_acc = model.history.history[\"val_acc\"]\n",
        "\n",
        "\"\"\"Code Here\n",
        "將 tp/tn 從訓練完的模型中取出\n",
        "\"\"\"\n",
        "valid_tp = model.history.history[\"val_tp\"]\n",
        "valid_tn = model.history.history[\"val_tn\"]"
      ],
      "execution_count": 24,
      "outputs": [
        {
          "output_type": "stream",
          "text": [
            "Model: \"model_4\"\n",
            "_________________________________________________________________\n",
            "Layer (type)                 Output Shape              Param #   \n",
            "=================================================================\n",
            "input_4 (InputLayer)         (None, 3072)              0         \n",
            "_________________________________________________________________\n",
            "hidden_layer1 (Dense)        (None, 512)               1573376   \n",
            "_________________________________________________________________\n",
            "batch_normalization_10 (Batc (None, 512)               2048      \n",
            "_________________________________________________________________\n",
            "hidden_layer2 (Dense)        (None, 256)               131328    \n",
            "_________________________________________________________________\n",
            "batch_normalization_11 (Batc (None, 256)               1024      \n",
            "_________________________________________________________________\n",
            "hidden_layer3 (Dense)        (None, 128)               32896     \n",
            "_________________________________________________________________\n",
            "batch_normalization_12 (Batc (None, 128)               512       \n",
            "_________________________________________________________________\n",
            "output (Dense)               (None, 10)                1290      \n",
            "=================================================================\n",
            "Total params: 1,742,474\n",
            "Trainable params: 1,740,682\n",
            "Non-trainable params: 1,792\n",
            "_________________________________________________________________\n",
            "Train on 50000 samples, validate on 10000 samples\n",
            "Epoch 1/25\n",
            "50000/50000 [==============================] - 8s 155us/step - loss: 2.2191 - acc: 0.2725 - val_loss: 2.1192 - val_acc: 0.3114\n",
            "Epoch 2/25\n",
            "50000/50000 [==============================] - 7s 134us/step - loss: 1.7332 - acc: 0.3965 - val_loss: 1.7989 - val_acc: 0.3882\n",
            "Epoch 3/25\n",
            "50000/50000 [==============================] - 7s 135us/step - loss: 1.6064 - acc: 0.4369 - val_loss: 1.6697 - val_acc: 0.4170\n",
            "Epoch 4/25\n",
            "50000/50000 [==============================] - 7s 137us/step - loss: 1.5343 - acc: 0.4638 - val_loss: 1.6292 - val_acc: 0.4289\n",
            "Epoch 5/25\n",
            "50000/50000 [==============================] - 7s 136us/step - loss: 1.4811 - acc: 0.4816 - val_loss: 1.6028 - val_acc: 0.4391\n",
            "Epoch 6/25\n",
            "50000/50000 [==============================] - 7s 137us/step - loss: 1.4371 - acc: 0.4978 - val_loss: 1.5696 - val_acc: 0.4462\n",
            "Epoch 7/25\n",
            "50000/50000 [==============================] - 7s 136us/step - loss: 1.3979 - acc: 0.5119 - val_loss: 1.5322 - val_acc: 0.4626\n",
            "Epoch 8/25\n",
            "50000/50000 [==============================] - 7s 136us/step - loss: 1.3615 - acc: 0.5259 - val_loss: 1.5214 - val_acc: 0.4657\n",
            "Epoch 9/25\n",
            "50000/50000 [==============================] - 7s 137us/step - loss: 1.3296 - acc: 0.5349 - val_loss: 1.5039 - val_acc: 0.4681\n",
            "Epoch 10/25\n",
            "50000/50000 [==============================] - 7s 134us/step - loss: 1.2982 - acc: 0.5478 - val_loss: 1.4869 - val_acc: 0.4757\n",
            "Epoch 11/25\n",
            "50000/50000 [==============================] - 7s 138us/step - loss: 1.2727 - acc: 0.5582 - val_loss: 1.4760 - val_acc: 0.4773\n",
            "Epoch 12/25\n",
            "50000/50000 [==============================] - 7s 136us/step - loss: 1.2456 - acc: 0.5693 - val_loss: 1.4814 - val_acc: 0.4781\n",
            "Epoch 13/25\n",
            "50000/50000 [==============================] - 7s 136us/step - loss: 1.2182 - acc: 0.5773 - val_loss: 1.4665 - val_acc: 0.4795\n",
            "Epoch 14/25\n",
            "50000/50000 [==============================] - 7s 135us/step - loss: 1.1963 - acc: 0.5871 - val_loss: 1.4742 - val_acc: 0.4800\n",
            "Epoch 15/25\n",
            "50000/50000 [==============================] - 7s 137us/step - loss: 1.1707 - acc: 0.5955 - val_loss: 1.4555 - val_acc: 0.4850\n",
            "Epoch 16/25\n",
            "50000/50000 [==============================] - 7s 137us/step - loss: 1.1468 - acc: 0.6059 - val_loss: 1.4412 - val_acc: 0.4925\n",
            "Epoch 17/25\n",
            "50000/50000 [==============================] - 7s 137us/step - loss: 1.1227 - acc: 0.6130 - val_loss: 1.4516 - val_acc: 0.4933\n",
            "Epoch 18/25\n",
            "50000/50000 [==============================] - 7s 135us/step - loss: 1.1020 - acc: 0.6211 - val_loss: 1.4350 - val_acc: 0.4958\n",
            "Epoch 19/25\n",
            "50000/50000 [==============================] - 7s 135us/step - loss: 1.0776 - acc: 0.6304 - val_loss: 1.4481 - val_acc: 0.4942\n",
            "Epoch 20/25\n",
            "50000/50000 [==============================] - 7s 136us/step - loss: 1.0564 - acc: 0.6402 - val_loss: 1.4398 - val_acc: 0.4933\n",
            "Epoch 21/25\n",
            "50000/50000 [==============================] - 7s 135us/step - loss: 1.0344 - acc: 0.6482 - val_loss: 1.4374 - val_acc: 0.4938\n",
            "Epoch 22/25\n",
            "50000/50000 [==============================] - 7s 137us/step - loss: 1.0160 - acc: 0.6535 - val_loss: 1.4399 - val_acc: 0.4937\n",
            "Epoch 23/25\n",
            "50000/50000 [==============================] - 7s 137us/step - loss: 0.9933 - acc: 0.6642 - val_loss: 1.4402 - val_acc: 0.4935\n",
            "Epoch 24/25\n",
            "50000/50000 [==============================] - 7s 136us/step - loss: 0.9727 - acc: 0.6711 - val_loss: 1.4355 - val_acc: 0.5014\n",
            "Epoch 25/25\n",
            "50000/50000 [==============================] - 7s 136us/step - loss: 0.9522 - acc: 0.6795 - val_loss: 1.4479 - val_acc: 0.4974\n"
          ],
          "name": "stdout"
        }
      ]
    },
    {
      "cell_type": "code",
      "metadata": {
        "id": "0O8M83aVHkeE",
        "colab_type": "code",
        "colab": {
          "base_uri": "https://localhost:8080/",
          "height": 809
        },
        "outputId": "66d274e1-c7c0-4309-f8e8-df4236be504a"
      },
      "source": [
        "import matplotlib.pyplot as plt\n",
        "%matplotlib inline\n",
        "\n",
        "plt.plot(range(len(train_loss)), train_loss, label=\"train loss\")\n",
        "plt.plot(range(len(valid_loss)), valid_loss, label=\"valid loss\")\n",
        "plt.legend()\n",
        "plt.title(\"Loss\")\n",
        "plt.show()\n",
        "\n",
        "plt.plot(range(len(train_acc)), train_acc, label=\"train accuracy\")\n",
        "plt.plot(range(len(valid_acc)), valid_acc, label=\"valid accuracy\")\n",
        "plt.legend()\n",
        "plt.title(\"Accuracy\")\n",
        "plt.show()\n",
        "\n",
        "plt.plot(range(len(valid_tp)), valid_tp, label=\"valid tp\", color=\"navy\")\n",
        "plt.plot(range(len(valid_tn)), valid_tn, label=\"valid tn\", color=\"red\")\n",
        "plt.legend()\n",
        "plt.title(\"True positives and True Negatives\")\n",
        "plt.show()\n"
      ],
      "execution_count": 25,
      "outputs": [
        {
          "output_type": "display_data",
          "data": {
            "image/png": "[encoded data removed]",
            "text/plain": [
              "<Figure size 432x288 with 1 Axes>"
            ]
          },
          "metadata": {
            "tags": []
          }
        },
        {
          "output_type": "display_data",
          "data": {
            "image/png": "[encoded data removed]",
            "text/plain": [
              "<Figure size 432x288 with 1 Axes>"
            ]
          },
          "metadata": {
            "tags": []
          }
        },
        {
          "output_type": "display_data",
          "data": {
            "image/png": "[encoded data removed]",
            "text/plain": [
              "<Figure size 432x288 with 1 Axes>"
            ]
          },
          "metadata": {
            "tags": []
          }
        }
      ]
    },
    {
      "cell_type": "code",
      "metadata": {
        "id": "VGzfqeDbg8_M",
        "colab_type": "code",
        "colab": {}
      },
      "source": [
        ""
      ],
      "execution_count": 0,
      "outputs": []
    }
  ]
}