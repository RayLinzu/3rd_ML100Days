{
  "nbformat": 4,
  "nbformat_minor": 0,
  "metadata": {
    "kernelspec": {
      "display_name": "Python 3",
      "language": "python",
      "name": "python3"
    },
    "language_info": {
      "codemirror_mode": {
        "name": "ipython",
        "version": 3
      },
      "file_extension": ".py",
      "mimetype": "text/x-python",
      "name": "python",
      "nbconvert_exporter": "python",
      "pygments_lexer": "ipython3",
      "version": "3.6.5"
    },
    "colab": {
      "name": "Day078_HW.ipynb",
      "provenance": [],
      "collapsed_sections": []
    }
  },
  "cells": [
    {
      "cell_type": "markdown",
      "metadata": {
        "id": "FXZj9iYHwLeu",
        "colab_type": "text"
      },
      "source": [
        "## Work\n",
        "1. 請嘗試將 preproc_x 替換成以每筆資料的 min/max 進行標準化至 -1 ~ 1 間，再進行訓練\n",
        "2. 請嘗試將 mlp 疊更深 (e.g 5~10 層)，進行訓練後觀察 learning curve 的走勢\n",
        "3. (optional) 請改用 GPU 進行訓練 (如果你有 GPU 的話)，比較使用 CPU 與 GPU 的訓練速度"
      ]
    },
    {
      "cell_type": "code",
      "metadata": {
        "id": "8iaQAyaNwLe7",
        "colab_type": "code",
        "colab": {
          "base_uri": "https://localhost:8080/",
          "height": 33
        },
        "outputId": "f05403cd-7274-4c40-934b-ed9330da4eff"
      },
      "source": [
        "## \n",
        "\"\"\"\n",
        "Your code here (optional)\n",
        "確認硬體資源\n",
        "\"\"\"\n"
      ],
      "execution_count": 1,
      "outputs": [
        {
          "output_type": "execute_result",
          "data": {
            "text/plain": [
              "'\\nYour code here (optional)\\n確認硬體資源\\n'"
            ]
          },
          "metadata": {
            "tags": []
          },
          "execution_count": 1
        }
      ]
    },
    {
      "cell_type": "code",
      "metadata": {
        "id": "hTLM5YV_wLfJ",
        "colab_type": "code",
        "colab": {}
      },
      "source": [
        "import os\n",
        "import keras\n",
        "\n",
        "# 請嘗試設定 GPU：os.environ\n",
        "os.environ[\"CUDA_VISIBLE_DEVICES\"] = \"\""
      ],
      "execution_count": 0,
      "outputs": []
    },
    {
      "cell_type": "code",
      "metadata": {
        "id": "X-ixN2mwwLfa",
        "colab_type": "code",
        "colab": {
          "base_uri": "https://localhost:8080/",
          "height": 50
        },
        "outputId": "cdbf827f-fc41-43ed-e612-d5c3c79a811f"
      },
      "source": [
        "train, test = keras.datasets.cifar10.load_data()"
      ],
      "execution_count": 4,
      "outputs": [
        {
          "output_type": "stream",
          "text": [
            "Downloading data from https://www.cs.toronto.edu/~kriz/cifar-10-python.tar.gz\n",
            "170500096/170498071 [==============================] - 2s 0us/step\n"
          ],
          "name": "stdout"
        }
      ]
    },
    {
      "cell_type": "code",
      "metadata": {
        "id": "Bcv3dU03wLfr",
        "colab_type": "code",
        "colab": {}
      },
      "source": [
        "## 資料前處理\n",
        "\"\"\"\n",
        "Your code here\n",
        "\"\"\"\n",
        "from sklearn import preprocessing\n",
        "max_min_scaler = preprocessing.MinMaxScaler(feature_range=(-1, 1))\n",
        "def preproc_x(x, flatten=True):\n",
        "    if flatten:\n",
        "        x = x.reshape((len(x), -1))\n",
        "    x = max_min_scaler.fit_transform(x)\n",
        "    return x\n",
        "\n",
        "def preproc_y(y, num_classes=10):\n",
        "    if y.shape[-1] == 1:\n",
        "        y = keras.utils.to_categorical(y, num_classes)\n",
        "    return y    "
      ],
      "execution_count": 0,
      "outputs": []
    },
    {
      "cell_type": "code",
      "metadata": {
        "id": "tGOw8SJuwLf3",
        "colab_type": "code",
        "colab": {}
      },
      "source": [
        "x_train, y_train = train\n",
        "x_test, y_test = test\n",
        "\n",
        "# Preproc the inputs\n",
        "x_train = preproc_x(x_train)\n",
        "x_test = preproc_x(x_test)\n",
        "\n",
        "# Preprc the outputs\n",
        "y_train = preproc_y(y_train)\n",
        "y_test = preproc_y(y_test)"
      ],
      "execution_count": 0,
      "outputs": []
    },
    {
      "cell_type": "code",
      "metadata": {
        "id": "oDLazi7OwLgB",
        "colab_type": "code",
        "colab": {}
      },
      "source": [
        "\"\"\"Code Here\n",
        "建立你的神經網路\n",
        "\"\"\"\n",
        "def build_mlp(input_shape, output_units=10, num_neurons=[512, 256, 128, 64, 32, 10]):\n",
        "    input_layer = keras.layers.Input(input_shape)\n",
        "    \n",
        "    for i, n_units in enumerate(num_neurons):\n",
        "        if i == 0:\n",
        "            x = keras.layers.Dense(units=n_units, activation=\"relu\", name=\"hidden_layer\"+str(i+1))(input_layer)\n",
        "        else:\n",
        "            x = keras.layers.Dense(units=n_units, activation=\"relu\", name=\"hidden_layer\"+str(i+1))(x)\n",
        "    \n",
        "    out = keras.layers.Dense(units=output_units, activation=\"softmax\", name=\"output\")(x)\n",
        "    \n",
        "    model = keras.models.Model(inputs=[input_layer], outputs=[out])\n",
        "    return model\n"
      ],
      "execution_count": 0,
      "outputs": []
    },
    {
      "cell_type": "code",
      "metadata": {
        "id": "sI5q5--xOYi0",
        "colab_type": "code",
        "colab": {
          "base_uri": "https://localhost:8080/",
          "height": 538
        },
        "outputId": "4988d4a1-cb59-46d4-ff33-5a1c0a8ad16b"
      },
      "source": [
        "model = build_mlp(input_shape=x_train.shape[1:])\n",
        "model.summary()"
      ],
      "execution_count": 11,
      "outputs": [
        {
          "output_type": "stream",
          "text": [
            "WARNING:tensorflow:From /usr/local/lib/python3.6/dist-packages/keras/backend/tensorflow_backend.py:66: The name tf.get_default_graph is deprecated. Please use tf.compat.v1.get_default_graph instead.\n",
            "\n",
            "WARNING:tensorflow:From /usr/local/lib/python3.6/dist-packages/keras/backend/tensorflow_backend.py:541: The name tf.placeholder is deprecated. Please use tf.compat.v1.placeholder instead.\n",
            "\n",
            "WARNING:tensorflow:From /usr/local/lib/python3.6/dist-packages/keras/backend/tensorflow_backend.py:4432: The name tf.random_uniform is deprecated. Please use tf.random.uniform instead.\n",
            "\n",
            "Model: \"model_1\"\n",
            "_________________________________________________________________\n",
            "Layer (type)                 Output Shape              Param #   \n",
            "=================================================================\n",
            "input_1 (InputLayer)         (None, 3072)              0         \n",
            "_________________________________________________________________\n",
            "hidden_layer1 (Dense)        (None, 512)               1573376   \n",
            "_________________________________________________________________\n",
            "hidden_layer2 (Dense)        (None, 256)               131328    \n",
            "_________________________________________________________________\n",
            "hidden_layer3 (Dense)        (None, 128)               32896     \n",
            "_________________________________________________________________\n",
            "hidden_layer4 (Dense)        (None, 64)                8256      \n",
            "_________________________________________________________________\n",
            "hidden_layer5 (Dense)        (None, 32)                2080      \n",
            "_________________________________________________________________\n",
            "hidden_layer6 (Dense)        (None, 10)                330       \n",
            "_________________________________________________________________\n",
            "output (Dense)               (None, 10)                110       \n",
            "=================================================================\n",
            "Total params: 1,748,376\n",
            "Trainable params: 1,748,376\n",
            "Non-trainable params: 0\n",
            "_________________________________________________________________\n"
          ],
          "name": "stdout"
        }
      ]
    },
    {
      "cell_type": "code",
      "metadata": {
        "id": "HjnoKv3dwLgL",
        "colab_type": "code",
        "colab": {}
      },
      "source": [
        "## 超參數設定\n",
        "LEARNING_RATE = 0.001\n",
        "EPOCHS = 100\n",
        "BATCH_SIZE = 256"
      ],
      "execution_count": 0,
      "outputs": []
    },
    {
      "cell_type": "code",
      "metadata": {
        "id": "J6HUQK6FwLga",
        "colab_type": "code",
        "colab": {
          "base_uri": "https://localhost:8080/",
          "height": 104
        },
        "outputId": "dc0e4e10-761c-4a06-900c-bc2e9538c58a"
      },
      "source": [
        "optimizer = keras.optimizers.Adam(lr=LEARNING_RATE)\n",
        "model.compile(loss=\"categorical_crossentropy\", metrics=[\"accuracy\"], optimizer=optimizer)"
      ],
      "execution_count": 13,
      "outputs": [
        {
          "output_type": "stream",
          "text": [
            "WARNING:tensorflow:From /usr/local/lib/python3.6/dist-packages/keras/optimizers.py:793: The name tf.train.Optimizer is deprecated. Please use tf.compat.v1.train.Optimizer instead.\n",
            "\n",
            "WARNING:tensorflow:From /usr/local/lib/python3.6/dist-packages/keras/backend/tensorflow_backend.py:3576: The name tf.log is deprecated. Please use tf.math.log instead.\n",
            "\n"
          ],
          "name": "stdout"
        }
      ]
    },
    {
      "cell_type": "code",
      "metadata": {
        "id": "2xAIQdUNwLgn",
        "colab_type": "code",
        "colab": {
          "base_uri": "https://localhost:8080/",
          "height": 1000
        },
        "outputId": "978d5df5-c98e-44a7-b25f-413164358e0d"
      },
      "source": [
        "model.fit(x_train, y_train, \n",
        "          epochs=EPOCHS, \n",
        "          batch_size=BATCH_SIZE, \n",
        "          validation_data=(x_test, y_test), \n",
        "          shuffle=True)"
      ],
      "execution_count": 14,
      "outputs": [
        {
          "output_type": "stream",
          "text": [
            "WARNING:tensorflow:From /usr/local/lib/python3.6/dist-packages/tensorflow_core/python/ops/math_grad.py:1424: where (from tensorflow.python.ops.array_ops) is deprecated and will be removed in a future version.\n",
            "Instructions for updating:\n",
            "Use tf.where in 2.0, which has the same broadcast rule as np.where\n",
            "WARNING:tensorflow:From /usr/local/lib/python3.6/dist-packages/keras/backend/tensorflow_backend.py:1033: The name tf.assign_add is deprecated. Please use tf.compat.v1.assign_add instead.\n",
            "\n",
            "WARNING:tensorflow:From /usr/local/lib/python3.6/dist-packages/keras/backend/tensorflow_backend.py:1020: The name tf.assign is deprecated. Please use tf.compat.v1.assign instead.\n",
            "\n",
            "WARNING:tensorflow:From /usr/local/lib/python3.6/dist-packages/keras/backend/tensorflow_backend.py:3005: The name tf.Session is deprecated. Please use tf.compat.v1.Session instead.\n",
            "\n",
            "Train on 50000 samples, validate on 10000 samples\n",
            "Epoch 1/100\n",
            "WARNING:tensorflow:From /usr/local/lib/python3.6/dist-packages/keras/backend/tensorflow_backend.py:190: The name tf.get_default_session is deprecated. Please use tf.compat.v1.get_default_session instead.\n",
            "\n",
            "WARNING:tensorflow:From /usr/local/lib/python3.6/dist-packages/keras/backend/tensorflow_backend.py:197: The name tf.ConfigProto is deprecated. Please use tf.compat.v1.ConfigProto instead.\n",
            "\n",
            "WARNING:tensorflow:From /usr/local/lib/python3.6/dist-packages/keras/backend/tensorflow_backend.py:207: The name tf.global_variables is deprecated. Please use tf.compat.v1.global_variables instead.\n",
            "\n",
            "WARNING:tensorflow:From /usr/local/lib/python3.6/dist-packages/keras/backend/tensorflow_backend.py:216: The name tf.is_variable_initialized is deprecated. Please use tf.compat.v1.is_variable_initialized instead.\n",
            "\n",
            "WARNING:tensorflow:From /usr/local/lib/python3.6/dist-packages/keras/backend/tensorflow_backend.py:223: The name tf.variables_initializer is deprecated. Please use tf.compat.v1.variables_initializer instead.\n",
            "\n",
            "50000/50000 [==============================] - 13s 269us/step - loss: 1.9436 - acc: 0.3065 - val_loss: 1.7324 - val_acc: 0.3993\n",
            "Epoch 2/100\n",
            "50000/50000 [==============================] - 12s 246us/step - loss: 1.6349 - acc: 0.4210 - val_loss: 1.5304 - val_acc: 0.4611\n",
            "Epoch 3/100\n",
            "50000/50000 [==============================] - 12s 246us/step - loss: 1.4791 - acc: 0.4820 - val_loss: 1.4795 - val_acc: 0.4755\n",
            "Epoch 4/100\n",
            "50000/50000 [==============================] - 12s 248us/step - loss: 1.3700 - acc: 0.5175 - val_loss: 1.4093 - val_acc: 0.5080\n",
            "Epoch 5/100\n",
            "50000/50000 [==============================] - 13s 256us/step - loss: 1.2751 - acc: 0.5516 - val_loss: 1.4111 - val_acc: 0.5139\n",
            "Epoch 6/100\n",
            "50000/50000 [==============================] - 13s 254us/step - loss: 1.1986 - acc: 0.5795 - val_loss: 1.3913 - val_acc: 0.5231\n",
            "Epoch 7/100\n",
            "50000/50000 [==============================] - 12s 247us/step - loss: 1.1200 - acc: 0.6050 - val_loss: 1.3782 - val_acc: 0.5252\n",
            "Epoch 8/100\n",
            "50000/50000 [==============================] - 12s 245us/step - loss: 1.0393 - acc: 0.6320 - val_loss: 1.4147 - val_acc: 0.5282\n",
            "Epoch 9/100\n",
            "50000/50000 [==============================] - 12s 242us/step - loss: 0.9731 - acc: 0.6559 - val_loss: 1.4196 - val_acc: 0.5367\n",
            "Epoch 10/100\n",
            "50000/50000 [==============================] - 12s 242us/step - loss: 0.9102 - acc: 0.6764 - val_loss: 1.4350 - val_acc: 0.5404\n",
            "Epoch 11/100\n",
            "50000/50000 [==============================] - 12s 242us/step - loss: 0.8422 - acc: 0.7021 - val_loss: 1.4755 - val_acc: 0.5385\n",
            "Epoch 12/100\n",
            "50000/50000 [==============================] - 12s 242us/step - loss: 0.7830 - acc: 0.7207 - val_loss: 1.5291 - val_acc: 0.5430\n",
            "Epoch 13/100\n",
            "50000/50000 [==============================] - 12s 242us/step - loss: 0.7222 - acc: 0.7439 - val_loss: 1.5837 - val_acc: 0.5341\n",
            "Epoch 14/100\n",
            "50000/50000 [==============================] - 12s 239us/step - loss: 0.6714 - acc: 0.7583 - val_loss: 1.6227 - val_acc: 0.5316\n",
            "Epoch 15/100\n",
            "50000/50000 [==============================] - 12s 239us/step - loss: 0.6222 - acc: 0.7795 - val_loss: 1.7331 - val_acc: 0.5288\n",
            "Epoch 16/100\n",
            "50000/50000 [==============================] - 12s 241us/step - loss: 0.5827 - acc: 0.7912 - val_loss: 1.8162 - val_acc: 0.5296\n",
            "Epoch 17/100\n",
            "50000/50000 [==============================] - 12s 240us/step - loss: 0.5298 - acc: 0.8115 - val_loss: 1.8293 - val_acc: 0.5350\n",
            "Epoch 18/100\n",
            "50000/50000 [==============================] - 12s 240us/step - loss: 0.4919 - acc: 0.8250 - val_loss: 1.9189 - val_acc: 0.5268\n",
            "Epoch 19/100\n",
            "50000/50000 [==============================] - 12s 241us/step - loss: 0.4663 - acc: 0.8345 - val_loss: 1.9908 - val_acc: 0.5363\n",
            "Epoch 20/100\n",
            "50000/50000 [==============================] - 12s 239us/step - loss: 0.4198 - acc: 0.8515 - val_loss: 2.2188 - val_acc: 0.5335\n",
            "Epoch 21/100\n",
            "50000/50000 [==============================] - 12s 239us/step - loss: 0.4005 - acc: 0.8585 - val_loss: 2.1253 - val_acc: 0.5337\n",
            "Epoch 22/100\n",
            "50000/50000 [==============================] - 12s 241us/step - loss: 0.3651 - acc: 0.8702 - val_loss: 2.3255 - val_acc: 0.5270\n",
            "Epoch 23/100\n",
            "50000/50000 [==============================] - 12s 241us/step - loss: 0.3386 - acc: 0.8804 - val_loss: 2.4571 - val_acc: 0.5255\n",
            "Epoch 24/100\n",
            "50000/50000 [==============================] - 12s 239us/step - loss: 0.3267 - acc: 0.8846 - val_loss: 2.3517 - val_acc: 0.5296\n",
            "Epoch 25/100\n",
            "50000/50000 [==============================] - 12s 241us/step - loss: 0.2954 - acc: 0.8965 - val_loss: 2.5175 - val_acc: 0.5299\n",
            "Epoch 26/100\n",
            "50000/50000 [==============================] - 12s 242us/step - loss: 0.2882 - acc: 0.8990 - val_loss: 2.4916 - val_acc: 0.5275\n",
            "Epoch 27/100\n",
            "50000/50000 [==============================] - 12s 239us/step - loss: 0.2802 - acc: 0.9023 - val_loss: 2.6289 - val_acc: 0.5243\n",
            "Epoch 28/100\n",
            "50000/50000 [==============================] - 12s 241us/step - loss: 0.2479 - acc: 0.9137 - val_loss: 2.6426 - val_acc: 0.5285\n",
            "Epoch 29/100\n",
            "50000/50000 [==============================] - 12s 240us/step - loss: 0.2565 - acc: 0.9106 - val_loss: 2.6119 - val_acc: 0.5290\n",
            "Epoch 30/100\n",
            "50000/50000 [==============================] - 12s 240us/step - loss: 0.2324 - acc: 0.9190 - val_loss: 2.8107 - val_acc: 0.5234\n",
            "Epoch 31/100\n",
            "50000/50000 [==============================] - 12s 241us/step - loss: 0.2382 - acc: 0.9170 - val_loss: 2.8289 - val_acc: 0.5261\n",
            "Epoch 32/100\n",
            "50000/50000 [==============================] - 12s 239us/step - loss: 0.2182 - acc: 0.9251 - val_loss: 2.8882 - val_acc: 0.5257\n",
            "Epoch 33/100\n",
            "50000/50000 [==============================] - 12s 239us/step - loss: 0.2047 - acc: 0.9283 - val_loss: 2.9178 - val_acc: 0.5329\n",
            "Epoch 34/100\n",
            "50000/50000 [==============================] - 12s 239us/step - loss: 0.1964 - acc: 0.9317 - val_loss: 2.9722 - val_acc: 0.5289\n",
            "Epoch 35/100\n",
            "50000/50000 [==============================] - 12s 240us/step - loss: 0.1784 - acc: 0.9402 - val_loss: 3.0664 - val_acc: 0.5164\n",
            "Epoch 36/100\n",
            "50000/50000 [==============================] - 12s 240us/step - loss: 0.1980 - acc: 0.9338 - val_loss: 3.0706 - val_acc: 0.5294\n",
            "Epoch 37/100\n",
            "50000/50000 [==============================] - 12s 239us/step - loss: 0.1686 - acc: 0.9431 - val_loss: 3.1534 - val_acc: 0.5305\n",
            "Epoch 38/100\n",
            "50000/50000 [==============================] - 12s 242us/step - loss: 0.1818 - acc: 0.9374 - val_loss: 3.0947 - val_acc: 0.5188\n",
            "Epoch 39/100\n",
            "50000/50000 [==============================] - 12s 242us/step - loss: 0.1706 - acc: 0.9414 - val_loss: 3.2115 - val_acc: 0.5282\n",
            "Epoch 40/100\n",
            "50000/50000 [==============================] - 12s 243us/step - loss: 0.1655 - acc: 0.9428 - val_loss: 3.2393 - val_acc: 0.5196\n",
            "Epoch 41/100\n",
            "50000/50000 [==============================] - 12s 242us/step - loss: 0.1413 - acc: 0.9517 - val_loss: 3.3479 - val_acc: 0.5254\n",
            "Epoch 42/100\n",
            "50000/50000 [==============================] - 12s 243us/step - loss: 0.1551 - acc: 0.9472 - val_loss: 3.3178 - val_acc: 0.5237\n",
            "Epoch 43/100\n",
            "50000/50000 [==============================] - 12s 242us/step - loss: 0.1524 - acc: 0.9483 - val_loss: 3.3437 - val_acc: 0.5311\n",
            "Epoch 44/100\n",
            "50000/50000 [==============================] - 12s 243us/step - loss: 0.1558 - acc: 0.9479 - val_loss: 3.3439 - val_acc: 0.5253\n",
            "Epoch 45/100\n",
            "50000/50000 [==============================] - 12s 243us/step - loss: 0.1418 - acc: 0.9529 - val_loss: 3.4641 - val_acc: 0.5173\n",
            "Epoch 46/100\n",
            "50000/50000 [==============================] - 12s 243us/step - loss: 0.1382 - acc: 0.9541 - val_loss: 3.3977 - val_acc: 0.5264\n",
            "Epoch 47/100\n",
            "50000/50000 [==============================] - 12s 244us/step - loss: 0.1478 - acc: 0.9509 - val_loss: 3.3735 - val_acc: 0.5296\n",
            "Epoch 48/100\n",
            "50000/50000 [==============================] - 12s 244us/step - loss: 0.1300 - acc: 0.9555 - val_loss: 3.5327 - val_acc: 0.5290\n",
            "Epoch 49/100\n",
            "50000/50000 [==============================] - 12s 247us/step - loss: 0.1320 - acc: 0.9564 - val_loss: 3.4657 - val_acc: 0.5276\n",
            "Epoch 50/100\n",
            "50000/50000 [==============================] - 12s 245us/step - loss: 0.1308 - acc: 0.9562 - val_loss: 3.4510 - val_acc: 0.5226\n",
            "Epoch 51/100\n",
            "50000/50000 [==============================] - 12s 248us/step - loss: 0.1187 - acc: 0.9603 - val_loss: 3.5346 - val_acc: 0.5231\n",
            "Epoch 52/100\n",
            "50000/50000 [==============================] - 12s 245us/step - loss: 0.1105 - acc: 0.9623 - val_loss: 3.5512 - val_acc: 0.5229\n",
            "Epoch 53/100\n",
            "50000/50000 [==============================] - 12s 247us/step - loss: 0.1294 - acc: 0.9568 - val_loss: 3.5464 - val_acc: 0.5254\n",
            "Epoch 54/100\n",
            "50000/50000 [==============================] - 12s 244us/step - loss: 0.1266 - acc: 0.9581 - val_loss: 3.5530 - val_acc: 0.5235\n",
            "Epoch 55/100\n",
            "50000/50000 [==============================] - 12s 245us/step - loss: 0.1082 - acc: 0.9638 - val_loss: 3.5798 - val_acc: 0.5213\n",
            "Epoch 56/100\n",
            "50000/50000 [==============================] - 12s 245us/step - loss: 0.1200 - acc: 0.9594 - val_loss: 3.6874 - val_acc: 0.5237\n",
            "Epoch 57/100\n",
            "50000/50000 [==============================] - 12s 247us/step - loss: 0.1207 - acc: 0.9593 - val_loss: 3.6268 - val_acc: 0.5281\n",
            "Epoch 58/100\n",
            "50000/50000 [==============================] - 12s 243us/step - loss: 0.1289 - acc: 0.9577 - val_loss: 3.4902 - val_acc: 0.5281\n",
            "Epoch 59/100\n",
            "50000/50000 [==============================] - 12s 242us/step - loss: 0.0999 - acc: 0.9668 - val_loss: 3.6976 - val_acc: 0.5290\n",
            "Epoch 60/100\n",
            "50000/50000 [==============================] - 12s 245us/step - loss: 0.0966 - acc: 0.9686 - val_loss: 3.7896 - val_acc: 0.5185\n",
            "Epoch 61/100\n",
            "50000/50000 [==============================] - 12s 244us/step - loss: 0.1108 - acc: 0.9645 - val_loss: 3.6441 - val_acc: 0.5248\n",
            "Epoch 62/100\n",
            "50000/50000 [==============================] - 12s 242us/step - loss: 0.1097 - acc: 0.9643 - val_loss: 3.5860 - val_acc: 0.5264\n",
            "Epoch 63/100\n",
            "50000/50000 [==============================] - 12s 244us/step - loss: 0.0862 - acc: 0.9719 - val_loss: 3.7357 - val_acc: 0.5298\n",
            "Epoch 64/100\n",
            "50000/50000 [==============================] - 12s 244us/step - loss: 0.1064 - acc: 0.9647 - val_loss: 3.8207 - val_acc: 0.5223\n",
            "Epoch 65/100\n",
            "50000/50000 [==============================] - 12s 243us/step - loss: 0.1128 - acc: 0.9633 - val_loss: 3.7018 - val_acc: 0.5220\n",
            "Epoch 66/100\n",
            "50000/50000 [==============================] - 12s 243us/step - loss: 0.0986 - acc: 0.9669 - val_loss: 3.6788 - val_acc: 0.5274\n",
            "Epoch 67/100\n",
            "50000/50000 [==============================] - 12s 246us/step - loss: 0.0829 - acc: 0.9723 - val_loss: 3.9058 - val_acc: 0.5253\n",
            "Epoch 68/100\n",
            "50000/50000 [==============================] - 12s 244us/step - loss: 0.0991 - acc: 0.9678 - val_loss: 3.6793 - val_acc: 0.5240\n",
            "Epoch 69/100\n",
            "50000/50000 [==============================] - 12s 245us/step - loss: 0.1071 - acc: 0.9651 - val_loss: 3.6738 - val_acc: 0.5313\n",
            "Epoch 70/100\n",
            "50000/50000 [==============================] - 12s 245us/step - loss: 0.0934 - acc: 0.9700 - val_loss: 3.7867 - val_acc: 0.5256\n",
            "Epoch 71/100\n",
            "50000/50000 [==============================] - 12s 245us/step - loss: 0.0696 - acc: 0.9777 - val_loss: 3.9647 - val_acc: 0.5295\n",
            "Epoch 72/100\n",
            "50000/50000 [==============================] - 12s 244us/step - loss: 0.0844 - acc: 0.9726 - val_loss: 4.0381 - val_acc: 0.5202\n",
            "Epoch 73/100\n",
            "50000/50000 [==============================] - 12s 245us/step - loss: 0.1208 - acc: 0.9612 - val_loss: 3.7097 - val_acc: 0.5413\n",
            "Epoch 74/100\n",
            "50000/50000 [==============================] - 12s 244us/step - loss: 0.0905 - acc: 0.9708 - val_loss: 3.7692 - val_acc: 0.5272\n",
            "Epoch 75/100\n",
            "50000/50000 [==============================] - 12s 245us/step - loss: 0.0662 - acc: 0.9784 - val_loss: 3.9208 - val_acc: 0.5305\n",
            "Epoch 76/100\n",
            "50000/50000 [==============================] - 12s 245us/step - loss: 0.0818 - acc: 0.9740 - val_loss: 3.8028 - val_acc: 0.5279\n",
            "Epoch 77/100\n",
            "50000/50000 [==============================] - 12s 244us/step - loss: 0.0877 - acc: 0.9708 - val_loss: 3.8863 - val_acc: 0.5307\n",
            "Epoch 78/100\n",
            "50000/50000 [==============================] - 12s 243us/step - loss: 0.0777 - acc: 0.9741 - val_loss: 4.0047 - val_acc: 0.5249\n",
            "Epoch 79/100\n",
            "50000/50000 [==============================] - 12s 243us/step - loss: 0.1033 - acc: 0.9671 - val_loss: 3.8249 - val_acc: 0.5313\n",
            "Epoch 80/100\n",
            "50000/50000 [==============================] - 12s 243us/step - loss: 0.0631 - acc: 0.9786 - val_loss: 3.9759 - val_acc: 0.5332\n",
            "Epoch 81/100\n",
            "50000/50000 [==============================] - 12s 243us/step - loss: 0.0833 - acc: 0.9734 - val_loss: 3.9368 - val_acc: 0.5322\n",
            "Epoch 82/100\n",
            "50000/50000 [==============================] - 12s 243us/step - loss: 0.0864 - acc: 0.9719 - val_loss: 3.8930 - val_acc: 0.5260\n",
            "Epoch 83/100\n",
            "50000/50000 [==============================] - 12s 241us/step - loss: 0.0876 - acc: 0.9713 - val_loss: 3.8908 - val_acc: 0.5268\n",
            "Epoch 84/100\n",
            "50000/50000 [==============================] - 12s 240us/step - loss: 0.0831 - acc: 0.9730 - val_loss: 3.9933 - val_acc: 0.5264\n",
            "Epoch 85/100\n",
            "50000/50000 [==============================] - 12s 240us/step - loss: 0.0561 - acc: 0.9815 - val_loss: 4.0512 - val_acc: 0.5320\n",
            "Epoch 86/100\n",
            "50000/50000 [==============================] - 12s 240us/step - loss: 0.0917 - acc: 0.9706 - val_loss: 3.8439 - val_acc: 0.5265\n",
            "Epoch 87/100\n",
            "50000/50000 [==============================] - 12s 241us/step - loss: 0.0879 - acc: 0.9720 - val_loss: 3.8994 - val_acc: 0.5344\n",
            "Epoch 88/100\n",
            "50000/50000 [==============================] - 12s 240us/step - loss: 0.0713 - acc: 0.9770 - val_loss: 3.8914 - val_acc: 0.5319\n",
            "Epoch 89/100\n",
            "50000/50000 [==============================] - 12s 240us/step - loss: 0.0616 - acc: 0.9797 - val_loss: 3.9456 - val_acc: 0.5246\n",
            "Epoch 90/100\n",
            "50000/50000 [==============================] - 12s 242us/step - loss: 0.0880 - acc: 0.9720 - val_loss: 3.8216 - val_acc: 0.5357\n",
            "Epoch 91/100\n",
            "50000/50000 [==============================] - 12s 240us/step - loss: 0.0613 - acc: 0.9807 - val_loss: 3.9763 - val_acc: 0.5316\n",
            "Epoch 92/100\n",
            "50000/50000 [==============================] - 12s 239us/step - loss: 0.0512 - acc: 0.9834 - val_loss: 3.9963 - val_acc: 0.5284\n",
            "Epoch 93/100\n",
            "50000/50000 [==============================] - 12s 240us/step - loss: 0.1107 - acc: 0.9647 - val_loss: 3.8181 - val_acc: 0.5344\n",
            "Epoch 94/100\n",
            "50000/50000 [==============================] - 12s 239us/step - loss: 0.0632 - acc: 0.9797 - val_loss: 3.9845 - val_acc: 0.5340\n",
            "Epoch 95/100\n",
            "50000/50000 [==============================] - 12s 240us/step - loss: 0.0616 - acc: 0.9796 - val_loss: 4.0706 - val_acc: 0.5318\n",
            "Epoch 96/100\n",
            "50000/50000 [==============================] - 12s 241us/step - loss: 0.0684 - acc: 0.9780 - val_loss: 4.0547 - val_acc: 0.5213\n",
            "Epoch 97/100\n",
            "50000/50000 [==============================] - 12s 240us/step - loss: 0.0827 - acc: 0.9734 - val_loss: 3.9128 - val_acc: 0.5279\n",
            "Epoch 98/100\n",
            "50000/50000 [==============================] - 12s 238us/step - loss: 0.0589 - acc: 0.9810 - val_loss: 3.9898 - val_acc: 0.5260\n",
            "Epoch 99/100\n",
            "50000/50000 [==============================] - 12s 239us/step - loss: 0.0675 - acc: 0.9779 - val_loss: 4.0226 - val_acc: 0.5357\n",
            "Epoch 100/100\n",
            "50000/50000 [==============================] - 12s 240us/step - loss: 0.0571 - acc: 0.9824 - val_loss: 4.1057 - val_acc: 0.5311\n"
          ],
          "name": "stdout"
        },
        {
          "output_type": "execute_result",
          "data": {
            "text/plain": [
              "<keras.callbacks.History at 0x7f6b8cdbad68>"
            ]
          },
          "metadata": {
            "tags": []
          },
          "execution_count": 14
        }
      ]
    },
    {
      "cell_type": "code",
      "metadata": {
        "id": "IkM0tV9owLgu",
        "colab_type": "code",
        "colab": {
          "base_uri": "https://localhost:8080/",
          "height": 545
        },
        "outputId": "357708c0-541f-4efc-c428-6e45b9d0ef7d"
      },
      "source": [
        "import matplotlib.pyplot as plt\n",
        "\n",
        "\n",
        "train_loss = model.history.history[\"loss\"]\n",
        "valid_loss = model.history.history[\"val_loss\"]\n",
        "\n",
        "train_acc = model.history.history[\"acc\"]\n",
        "valid_acc = model.history.history[\"val_acc\"]\n",
        "\n",
        "plt.plot(range(len(train_loss)), train_loss, label=\"train loss\")\n",
        "plt.plot(range(len(valid_loss)), valid_loss, label=\"valid loss\")\n",
        "plt.legend()\n",
        "plt.title(\"Loss\")\n",
        "plt.show()\n",
        "\n",
        "plt.plot(range(len(train_acc)), train_acc, label=\"train accuracy\")\n",
        "plt.plot(range(len(valid_acc)), valid_acc, label=\"valid accuracy\")\n",
        "plt.legend()\n",
        "plt.title(\"Accuracy\")\n",
        "plt.show()"
      ],
      "execution_count": 15,
      "outputs": [
        {
          "output_type": "display_data",
          "data": {
            "image/png": "[encoded data removed]",
            "text/plain": [
              "<Figure size 432x288 with 1 Axes>"
            ]
          },
          "metadata": {
            "tags": []
          }
        },
        {
          "output_type": "display_data",
          "data": {
            "image/png": "[encoded data removed]",
            "text/plain": [
              "<Figure size 432x288 with 1 Axes>"
            ]
          },
          "metadata": {
            "tags": []
          }
        }
      ]
    },
    {
      "cell_type": "code",
      "metadata": {
        "id": "SWYrBu0jOkxj",
        "colab_type": "code",
        "colab": {}
      },
      "source": [
        ""
      ],
      "execution_count": 0,
      "outputs": []
    }
  ]
}