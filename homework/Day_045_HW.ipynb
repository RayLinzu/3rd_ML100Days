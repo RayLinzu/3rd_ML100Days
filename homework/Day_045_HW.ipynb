{
 "cells": [
  {
   "cell_type": "markdown",
   "metadata": {},
   "source": [
    "# 重點整理\n",
    "\n",
    "  ##  訓練樣本:\n",
    "* bagging:隨機抽樣\n",
    "* boosting:有序列的抽樣\n",
    "## 每個分類器的取得:\n",
    "* bagging:每個分類器可以併行生成\n",
    "* boosting:每個若分類器只能按照上一個分類器順序生成\n",
    "## 準確度:\n",
    "* bagging:可以降低bias, 提升variance\n",
    "* boosting:可能提升bias, 提升variance\n",
    "## 參考資料:\n",
    "* https://medium.com/@chih.sheng.huang821/%E6%A9%9F%E5%99%A8%E5%AD%B8%E7%BF%92-ensemble-learning%E4%B9%8Bbagging-boosting%E5%92%8Cadaboost-af031229ebc3\n",
    "* https://www.youtube.com/watch?v=tH9FH1DH5n0"
   ]
  },
  {
   "cell_type": "code",
   "execution_count": null,
   "metadata": {},
   "outputs": [],
   "source": []
  }
 ],
 "metadata": {
  "kernelspec": {
   "display_name": "Python 3",
   "language": "python",
   "name": "python3"
  },
  "language_info": {
   "codemirror_mode": {
    "name": "ipython",
    "version": 3
   },
   "file_extension": ".py",
   "mimetype": "text/x-python",
   "name": "python",
   "nbconvert_exporter": "python",
   "pygments_lexer": "ipython3",
   "version": "3.7.0"
  }
 },
 "nbformat": 4,
 "nbformat_minor": 2
}
