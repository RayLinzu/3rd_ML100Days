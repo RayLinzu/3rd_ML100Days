{
  "nbformat": 4,
  "nbformat_minor": 0,
  "metadata": {
    "kernelspec": {
      "display_name": "Python 3",
      "language": "python",
      "name": "python3"
    },
    "language_info": {
      "codemirror_mode": {
        "name": "ipython",
        "version": 3
      },
      "file_extension": ".py",
      "mimetype": "text/x-python",
      "name": "python",
      "nbconvert_exporter": "python",
      "pygments_lexer": "ipython3",
      "version": "3.6.5"
    },
    "colab": {
      "name": "Day086_HW.ipynb",
      "provenance": [],
      "collapsed_sections": []
    }
  },
  "cells": [
    {
      "cell_type": "markdown",
      "metadata": {
        "id": "Es1zKoamnL0n",
        "colab_type": "text"
      },
      "source": [
        "## Work\n",
        "1. 試比較 save_best_only 與否的差異\n",
        "2. 請僅存入將 save_weights_only 設定為 True, 並嘗試 reset ipynb 並將模型與權重重新建回並預測 x_test"
      ]
    },
    {
      "cell_type": "code",
      "metadata": {
        "id": "IrKoHRiknL0y",
        "colab_type": "code",
        "colab": {
          "base_uri": "https://localhost:8080/",
          "height": 79
        },
        "outputId": "db61c952-6fa0-43e9-c05c-ec1f229cdd0e"
      },
      "source": [
        "import os\n",
        "import keras\n",
        "\n",
        "# Disable GPU\n",
        "os.environ[\"CUDA_VISIBLE_DEVICES\"] = \"\""
      ],
      "execution_count": 1,
      "outputs": [
        {
          "output_type": "stream",
          "text": [
            "Using TensorFlow backend.\n"
          ],
          "name": "stderr"
        },
        {
          "output_type": "display_data",
          "data": {
            "text/html": [
              "<p style=\"color: red;\">\n",
              "The default version of TensorFlow in Colab will soon switch to TensorFlow 2.x.<br>\n",
              "We recommend you <a href=\"https://www.tensorflow.org/guide/migrate\" target=\"_blank\">upgrade</a> now \n",
              "or ensure your notebook will continue to use TensorFlow 1.x via the <code>%tensorflow_version 1.x</code> magic:\n",
              "<a href=\"https://colab.research.google.com/notebooks/tensorflow_version.ipynb\" target=\"_blank\">more info</a>.</p>\n"
            ],
            "text/plain": [
              "<IPython.core.display.HTML object>"
            ]
          },
          "metadata": {
            "tags": []
          }
        }
      ]
    },
    {
      "cell_type": "code",
      "metadata": {
        "id": "Xhto5_CknL1A",
        "colab_type": "code",
        "colab": {
          "base_uri": "https://localhost:8080/",
          "height": 50
        },
        "outputId": "80505fc5-018f-46f0-826c-ceb3aa5c6ada"
      },
      "source": [
        "train, test = keras.datasets.cifar10.load_data()"
      ],
      "execution_count": 2,
      "outputs": [
        {
          "output_type": "stream",
          "text": [
            "Downloading data from https://www.cs.toronto.edu/~kriz/cifar-10-python.tar.gz\n",
            "170500096/170498071 [==============================] - 6s 0us/step\n"
          ],
          "name": "stdout"
        }
      ]
    },
    {
      "cell_type": "code",
      "metadata": {
        "id": "_PmlzS9hnL1K",
        "colab_type": "code",
        "colab": {}
      },
      "source": [
        "## 資料前處理\n",
        "def preproc_x(x, flatten=True):\n",
        "    x = x / 255.\n",
        "    if flatten:\n",
        "        x = x.reshape((len(x), -1))\n",
        "    return x\n",
        "\n",
        "def preproc_y(y, num_classes=10):\n",
        "    if y.shape[-1] == 1:\n",
        "        y = keras.utils.to_categorical(y, num_classes)\n",
        "    return y    "
      ],
      "execution_count": 0,
      "outputs": []
    },
    {
      "cell_type": "code",
      "metadata": {
        "id": "Xzns_OOunL1T",
        "colab_type": "code",
        "colab": {}
      },
      "source": [
        "x_train, y_train = train\n",
        "x_test, y_test = test\n",
        "\n",
        "# Preproc the inputs\n",
        "x_train = preproc_x(x_train)\n",
        "x_test = preproc_x(x_test)\n",
        "\n",
        "# Preprc the outputs\n",
        "y_train = preproc_y(y_train)\n",
        "y_test = preproc_y(y_test)"
      ],
      "execution_count": 0,
      "outputs": []
    },
    {
      "cell_type": "code",
      "metadata": {
        "id": "u_ECgrSynL1e",
        "colab_type": "code",
        "colab": {}
      },
      "source": [
        "from keras.layers import BatchNormalization\n",
        "\n",
        "\"\"\"\n",
        "建立神經網路，並加入 BN layer\n",
        "\"\"\"\n",
        "def build_mlp(input_shape, output_units=10, num_neurons=[512, 256, 128]):\n",
        "    input_layer = keras.layers.Input(input_shape)\n",
        "    \n",
        "    for i, n_units in enumerate(num_neurons):\n",
        "        if i == 0:\n",
        "            x = keras.layers.Dense(units=n_units, \n",
        "                                   activation=\"relu\", \n",
        "                                   name=\"hidden_layer\"+str(i+1))(input_layer)\n",
        "            x = BatchNormalization()(x)\n",
        "        else:\n",
        "            x = keras.layers.Dense(units=n_units, \n",
        "                                   activation=\"relu\", \n",
        "                                   name=\"hidden_layer\"+str(i+1))(x)\n",
        "            x = BatchNormalization()(x)\n",
        "    \n",
        "    out = keras.layers.Dense(units=output_units, activation=\"softmax\", name=\"output\")(x)\n",
        "    \n",
        "    model = keras.models.Model(inputs=[input_layer], outputs=[out])\n",
        "    return model"
      ],
      "execution_count": 0,
      "outputs": []
    },
    {
      "cell_type": "code",
      "metadata": {
        "id": "4iodUYSUnL1n",
        "colab_type": "code",
        "colab": {}
      },
      "source": [
        "## 超參數設定\n",
        "LEARNING_RATE = 1e-3\n",
        "EPOCHS = 50\n",
        "BATCH_SIZE = 1024\n",
        "MOMENTUM = 0.95"
      ],
      "execution_count": 0,
      "outputs": []
    },
    {
      "cell_type": "code",
      "metadata": {
        "id": "9xxIah_RnL1v",
        "colab_type": "code",
        "colab": {
          "base_uri": "https://localhost:8080/",
          "height": 1000
        },
        "outputId": "52b09d53-d302-48af-d729-a6146e31570b"
      },
      "source": [
        "# 載入 Callbacks\n",
        "\"\"\"Code Here\n",
        "設定 callbacks: model checkpoint\n",
        "\"\"\"\n",
        "from keras.callbacks import ModelCheckpoint\n",
        "\n",
        "results = {}\n",
        "\"\"\"Code Here\n",
        "撰寫你的訓練流程並將結果用 dictionary 紀錄\n",
        "\"\"\"\n",
        "for save in [True, False]:\n",
        "  model_ckpt = ModelCheckpoint(filepath=\"./tmp.h5\", \n",
        "                             monitor=\"val_loss\", \n",
        "                             save_best_only=save)\n",
        "  model = build_mlp(input_shape=x_train.shape[1:])\n",
        "  model.summary()\n",
        "  optimizer = keras.optimizers.SGD(lr=LEARNING_RATE, nesterov=True, momentum=MOMENTUM)\n",
        "  model.compile(loss=\"categorical_crossentropy\", metrics=[\"accuracy\"], optimizer=optimizer)\n",
        "\n",
        "  model.fit(x_train, y_train, \n",
        "          epochs=EPOCHS, \n",
        "          batch_size=BATCH_SIZE, \n",
        "          validation_data=(x_test, y_test), \n",
        "          shuffle=True,\n",
        "          callbacks=[model_ckpt]\n",
        "         )\n",
        "\n",
        "  # Collect results\n",
        "  train_loss = model.history.history[\"loss\"]\n",
        "  valid_loss = model.history.history[\"val_loss\"]\n",
        "  train_acc = model.history.history[\"acc\"]\n",
        "  valid_acc = model.history.history[\"val_acc\"]\n",
        "  save_best_only = \"save_best_only-%s\" % str(save)\n",
        "  results[save_best_only] = {'train-loss': train_loss,\n",
        "                             'valid-loss': valid_loss,\n",
        "                             'train-acc': train_acc,\n",
        "                             'valid-acc': valid_acc}\n",
        "  # Load back\n",
        "  model = keras.models.load_model(\"./tmp.h5\")\n",
        "  loss_loadback, acc_loadback = model.evaluate(x_test, y_test)\n",
        "  print(save,loss_loadback)\n",
        "  print(save,acc_loadback)\n",
        "  import matplotlib.pyplot as plt\n",
        "  %matplotlib inline\n",
        "\n",
        "  plt.plot(range(len(train_loss)), train_loss, label=\"train loss\")\n",
        "  plt.plot(range(len(valid_loss)), valid_loss, label=\"valid loss\")\n",
        "  plt.hlines(y=loss_loadback, xmin=0, xmax=len(train_loss), colors='r', linestyles='--')\n",
        "  plt.legend()\n",
        "  plt.title(\"Loss\")\n",
        "  plt.show()\n",
        "\n",
        "  plt.plot(range(len(train_acc)), train_acc, label=\"train accuracy\")\n",
        "  plt.plot(range(len(valid_acc)), valid_acc, label=\"valid accuracy\")\n",
        "  plt.hlines(y=acc_loadback, xmin=0, xmax=len(train_loss), colors='r', linestyles='--')\n",
        "  plt.legend()\n",
        "  plt.title(\"Accuracy\")\n",
        "  plt.show()"
      ],
      "execution_count": 9,
      "outputs": [
        {
          "output_type": "stream",
          "text": [
            "Model: \"model_4\"\n",
            "_________________________________________________________________\n",
            "Layer (type)                 Output Shape              Param #   \n",
            "=================================================================\n",
            "input_4 (InputLayer)         (None, 3072)              0         \n",
            "_________________________________________________________________\n",
            "hidden_layer1 (Dense)        (None, 512)               1573376   \n",
            "_________________________________________________________________\n",
            "batch_normalization_10 (Batc (None, 512)               2048      \n",
            "_________________________________________________________________\n",
            "hidden_layer2 (Dense)        (None, 256)               131328    \n",
            "_________________________________________________________________\n",
            "batch_normalization_11 (Batc (None, 256)               1024      \n",
            "_________________________________________________________________\n",
            "hidden_layer3 (Dense)        (None, 128)               32896     \n",
            "_________________________________________________________________\n",
            "batch_normalization_12 (Batc (None, 128)               512       \n",
            "_________________________________________________________________\n",
            "output (Dense)               (None, 10)                1290      \n",
            "=================================================================\n",
            "Total params: 1,742,474\n",
            "Trainable params: 1,740,682\n",
            "Non-trainable params: 1,792\n",
            "_________________________________________________________________\n",
            "Train on 50000 samples, validate on 10000 samples\n",
            "Epoch 1/50\n",
            "50000/50000 [==============================] - 7s 137us/step - loss: 2.2478 - acc: 0.2683 - val_loss: 2.2077 - val_acc: 0.3027\n",
            "Epoch 2/50\n",
            "50000/50000 [==============================] - 6s 116us/step - loss: 1.7578 - acc: 0.3934 - val_loss: 1.8577 - val_acc: 0.3685\n",
            "Epoch 3/50\n",
            "50000/50000 [==============================] - 6s 117us/step - loss: 1.6304 - acc: 0.4323 - val_loss: 1.7171 - val_acc: 0.4053\n",
            "Epoch 4/50\n",
            "50000/50000 [==============================] - 6s 116us/step - loss: 1.5560 - acc: 0.4585 - val_loss: 1.6487 - val_acc: 0.4230\n",
            "Epoch 5/50\n",
            "50000/50000 [==============================] - 6s 118us/step - loss: 1.5007 - acc: 0.4773 - val_loss: 1.5960 - val_acc: 0.4408\n",
            "Epoch 6/50\n",
            "50000/50000 [==============================] - 6s 115us/step - loss: 1.4552 - acc: 0.4940 - val_loss: 1.5829 - val_acc: 0.4437\n",
            "Epoch 7/50\n",
            "50000/50000 [==============================] - 6s 118us/step - loss: 1.4144 - acc: 0.5097 - val_loss: 1.5625 - val_acc: 0.4575\n",
            "Epoch 8/50\n",
            "50000/50000 [==============================] - 6s 115us/step - loss: 1.3800 - acc: 0.5207 - val_loss: 1.5498 - val_acc: 0.4547\n",
            "Epoch 9/50\n",
            "50000/50000 [==============================] - 6s 117us/step - loss: 1.3460 - acc: 0.5340 - val_loss: 1.5221 - val_acc: 0.4593\n",
            "Epoch 10/50\n",
            "50000/50000 [==============================] - 6s 117us/step - loss: 1.3149 - acc: 0.5420 - val_loss: 1.5020 - val_acc: 0.4686\n",
            "Epoch 11/50\n",
            "50000/50000 [==============================] - 6s 116us/step - loss: 1.2858 - acc: 0.5555 - val_loss: 1.4987 - val_acc: 0.4696\n",
            "Epoch 12/50\n",
            "50000/50000 [==============================] - 6s 117us/step - loss: 1.2593 - acc: 0.5629 - val_loss: 1.5017 - val_acc: 0.4696\n",
            "Epoch 13/50\n",
            "50000/50000 [==============================] - 6s 116us/step - loss: 1.2325 - acc: 0.5728 - val_loss: 1.4805 - val_acc: 0.4767\n",
            "Epoch 14/50\n",
            "50000/50000 [==============================] - 6s 117us/step - loss: 1.2078 - acc: 0.5824 - val_loss: 1.4802 - val_acc: 0.4790\n",
            "Epoch 15/50\n",
            "50000/50000 [==============================] - 6s 115us/step - loss: 1.1819 - acc: 0.5930 - val_loss: 1.4682 - val_acc: 0.4852\n",
            "Epoch 16/50\n",
            "50000/50000 [==============================] - 6s 115us/step - loss: 1.1590 - acc: 0.6005 - val_loss: 1.4748 - val_acc: 0.4837\n",
            "Epoch 17/50\n",
            "50000/50000 [==============================] - 6s 116us/step - loss: 1.1362 - acc: 0.6098 - val_loss: 1.4643 - val_acc: 0.4874\n",
            "Epoch 18/50\n",
            "50000/50000 [==============================] - 6s 115us/step - loss: 1.1125 - acc: 0.6183 - val_loss: 1.4668 - val_acc: 0.4848\n",
            "Epoch 19/50\n",
            "50000/50000 [==============================] - 6s 116us/step - loss: 1.0913 - acc: 0.6280 - val_loss: 1.4597 - val_acc: 0.4860\n",
            "Epoch 20/50\n",
            "50000/50000 [==============================] - 6s 115us/step - loss: 1.0684 - acc: 0.6343 - val_loss: 1.4626 - val_acc: 0.4861\n",
            "Epoch 21/50\n",
            "50000/50000 [==============================] - 6s 118us/step - loss: 1.0441 - acc: 0.6444 - val_loss: 1.4482 - val_acc: 0.4945\n",
            "Epoch 22/50\n",
            "50000/50000 [==============================] - 6s 117us/step - loss: 1.0238 - acc: 0.6511 - val_loss: 1.4511 - val_acc: 0.4914\n",
            "Epoch 23/50\n",
            "50000/50000 [==============================] - 6s 117us/step - loss: 1.0030 - acc: 0.6594 - val_loss: 1.4640 - val_acc: 0.4883\n",
            "Epoch 24/50\n",
            "50000/50000 [==============================] - 6s 115us/step - loss: 0.9833 - acc: 0.6681 - val_loss: 1.4648 - val_acc: 0.4923\n",
            "Epoch 25/50\n",
            "50000/50000 [==============================] - 6s 115us/step - loss: 0.9624 - acc: 0.6765 - val_loss: 1.4585 - val_acc: 0.4966\n",
            "Epoch 26/50\n",
            "50000/50000 [==============================] - 6s 117us/step - loss: 0.9415 - acc: 0.6846 - val_loss: 1.4521 - val_acc: 0.5003\n",
            "Epoch 27/50\n",
            "50000/50000 [==============================] - 6s 117us/step - loss: 0.9216 - acc: 0.6916 - val_loss: 1.4552 - val_acc: 0.4961\n",
            "Epoch 28/50\n",
            "50000/50000 [==============================] - 6s 117us/step - loss: 0.9016 - acc: 0.7006 - val_loss: 1.4810 - val_acc: 0.4859\n",
            "Epoch 29/50\n",
            "50000/50000 [==============================] - 6s 116us/step - loss: 0.8806 - acc: 0.7083 - val_loss: 1.4707 - val_acc: 0.4936\n",
            "Epoch 30/50\n",
            "50000/50000 [==============================] - 6s 118us/step - loss: 0.8612 - acc: 0.7173 - val_loss: 1.4772 - val_acc: 0.4988\n",
            "Epoch 31/50\n",
            "50000/50000 [==============================] - 6s 116us/step - loss: 0.8421 - acc: 0.7223 - val_loss: 1.4945 - val_acc: 0.4909\n",
            "Epoch 32/50\n",
            "50000/50000 [==============================] - 6s 118us/step - loss: 0.8218 - acc: 0.7306 - val_loss: 1.4956 - val_acc: 0.4961\n",
            "Epoch 33/50\n",
            "50000/50000 [==============================] - 6s 118us/step - loss: 0.8024 - acc: 0.7383 - val_loss: 1.5006 - val_acc: 0.4951\n",
            "Epoch 34/50\n",
            "50000/50000 [==============================] - 6s 118us/step - loss: 0.7836 - acc: 0.7471 - val_loss: 1.5113 - val_acc: 0.4956\n",
            "Epoch 35/50\n",
            "50000/50000 [==============================] - 6s 117us/step - loss: 0.7658 - acc: 0.7530 - val_loss: 1.5233 - val_acc: 0.4926\n",
            "Epoch 36/50\n",
            "50000/50000 [==============================] - 6s 119us/step - loss: 0.7463 - acc: 0.7611 - val_loss: 1.5061 - val_acc: 0.4963\n",
            "Epoch 37/50\n",
            "50000/50000 [==============================] - 6s 118us/step - loss: 0.7267 - acc: 0.7686 - val_loss: 1.5252 - val_acc: 0.4934\n",
            "Epoch 38/50\n",
            "50000/50000 [==============================] - 6s 118us/step - loss: 0.7087 - acc: 0.7755 - val_loss: 1.5330 - val_acc: 0.4951\n",
            "Epoch 39/50\n",
            "50000/50000 [==============================] - 6s 118us/step - loss: 0.6914 - acc: 0.7826 - val_loss: 1.5459 - val_acc: 0.4960\n",
            "Epoch 40/50\n",
            "50000/50000 [==============================] - 6s 119us/step - loss: 0.6721 - acc: 0.7898 - val_loss: 1.5504 - val_acc: 0.4932\n",
            "Epoch 41/50\n",
            "50000/50000 [==============================] - 6s 121us/step - loss: 0.6548 - acc: 0.7977 - val_loss: 1.5734 - val_acc: 0.4872\n",
            "Epoch 42/50\n",
            "50000/50000 [==============================] - 6s 119us/step - loss: 0.6371 - acc: 0.8043 - val_loss: 1.5878 - val_acc: 0.4898\n",
            "Epoch 43/50\n",
            "50000/50000 [==============================] - 6s 118us/step - loss: 0.6198 - acc: 0.8112 - val_loss: 1.5906 - val_acc: 0.4939\n",
            "Epoch 44/50\n",
            "50000/50000 [==============================] - 6s 119us/step - loss: 0.6017 - acc: 0.8197 - val_loss: 1.5885 - val_acc: 0.4938\n",
            "Epoch 45/50\n",
            "50000/50000 [==============================] - 6s 120us/step - loss: 0.5828 - acc: 0.8282 - val_loss: 1.5906 - val_acc: 0.4961\n",
            "Epoch 46/50\n",
            "50000/50000 [==============================] - 6s 120us/step - loss: 0.5659 - acc: 0.8344 - val_loss: 1.6368 - val_acc: 0.4848\n",
            "Epoch 47/50\n",
            "50000/50000 [==============================] - 6s 118us/step - loss: 0.5506 - acc: 0.8380 - val_loss: 1.6589 - val_acc: 0.4902\n",
            "Epoch 48/50\n",
            "50000/50000 [==============================] - 6s 119us/step - loss: 0.5357 - acc: 0.8440 - val_loss: 1.6399 - val_acc: 0.4926\n",
            "Epoch 49/50\n",
            "50000/50000 [==============================] - 6s 118us/step - loss: 0.5186 - acc: 0.8506 - val_loss: 1.6587 - val_acc: 0.4926\n",
            "Epoch 50/50\n",
            "50000/50000 [==============================] - 6s 117us/step - loss: 0.5016 - acc: 0.8583 - val_loss: 1.6703 - val_acc: 0.4894\n",
            "10000/10000 [==============================] - 1s 143us/step\n",
            "True 1.448163537979126\n",
            "True 0.4945\n"
          ],
          "name": "stdout"
        },
        {
          "output_type": "display_data",
          "data": {
            "image/png": "[encoded data removed]",
            "text/plain": [
              "<Figure size 432x288 with 1 Axes>"
            ]
          },
          "metadata": {
            "tags": []
          }
        },
        {
          "output_type": "display_data",
          "data": {
            "image/png": "[encoded data removed]",
            "text/plain": [
              "<Figure size 432x288 with 1 Axes>"
            ]
          },
          "metadata": {
            "tags": []
          }
        },
        {
          "output_type": "stream",
          "text": [
            "Model: \"model_5\"\n",
            "_________________________________________________________________\n",
            "Layer (type)                 Output Shape              Param #   \n",
            "=================================================================\n",
            "input_5 (InputLayer)         (None, 3072)              0         \n",
            "_________________________________________________________________\n",
            "hidden_layer1 (Dense)        (None, 512)               1573376   \n",
            "_________________________________________________________________\n",
            "batch_normalization_13 (Batc (None, 512)               2048      \n",
            "_________________________________________________________________\n",
            "hidden_layer2 (Dense)        (None, 256)               131328    \n",
            "_________________________________________________________________\n",
            "batch_normalization_14 (Batc (None, 256)               1024      \n",
            "_________________________________________________________________\n",
            "hidden_layer3 (Dense)        (None, 128)               32896     \n",
            "_________________________________________________________________\n",
            "batch_normalization_15 (Batc (None, 128)               512       \n",
            "_________________________________________________________________\n",
            "output (Dense)               (None, 10)                1290      \n",
            "=================================================================\n",
            "Total params: 1,742,474\n",
            "Trainable params: 1,740,682\n",
            "Non-trainable params: 1,792\n",
            "_________________________________________________________________\n",
            "Train on 50000 samples, validate on 10000 samples\n",
            "Epoch 1/50\n",
            "50000/50000 [==============================] - 7s 144us/step - loss: 2.1931 - acc: 0.2729 - val_loss: 2.1364 - val_acc: 0.3184\n",
            "Epoch 2/50\n",
            "50000/50000 [==============================] - 6s 121us/step - loss: 1.7422 - acc: 0.3935 - val_loss: 1.7944 - val_acc: 0.3905\n",
            "Epoch 3/50\n",
            "50000/50000 [==============================] - 6s 121us/step - loss: 1.6173 - acc: 0.4342 - val_loss: 1.6956 - val_acc: 0.4071\n",
            "Epoch 4/50\n",
            "50000/50000 [==============================] - 6s 118us/step - loss: 1.5443 - acc: 0.4612 - val_loss: 1.6323 - val_acc: 0.4294\n",
            "Epoch 5/50\n",
            "50000/50000 [==============================] - 6s 118us/step - loss: 1.4874 - acc: 0.4812 - val_loss: 1.5848 - val_acc: 0.4395\n",
            "Epoch 6/50\n",
            "50000/50000 [==============================] - 6s 118us/step - loss: 1.4410 - acc: 0.4970 - val_loss: 1.5603 - val_acc: 0.4506\n",
            "Epoch 7/50\n",
            "50000/50000 [==============================] - 6s 119us/step - loss: 1.4024 - acc: 0.5096 - val_loss: 1.5361 - val_acc: 0.4561\n",
            "Epoch 8/50\n",
            "50000/50000 [==============================] - 6s 118us/step - loss: 1.3646 - acc: 0.5249 - val_loss: 1.5258 - val_acc: 0.4582\n",
            "Epoch 9/50\n",
            "50000/50000 [==============================] - 6s 117us/step - loss: 1.3331 - acc: 0.5333 - val_loss: 1.5208 - val_acc: 0.4597\n",
            "Epoch 10/50\n",
            "50000/50000 [==============================] - 6s 119us/step - loss: 1.3021 - acc: 0.5462 - val_loss: 1.5041 - val_acc: 0.4669\n",
            "Epoch 11/50\n",
            "50000/50000 [==============================] - 6s 119us/step - loss: 1.2733 - acc: 0.5570 - val_loss: 1.4907 - val_acc: 0.4753\n",
            "Epoch 12/50\n",
            "50000/50000 [==============================] - 6s 120us/step - loss: 1.2467 - acc: 0.5679 - val_loss: 1.4739 - val_acc: 0.4852\n",
            "Epoch 13/50\n",
            "50000/50000 [==============================] - 6s 119us/step - loss: 1.2202 - acc: 0.5773 - val_loss: 1.4749 - val_acc: 0.4840\n",
            "Epoch 14/50\n",
            "50000/50000 [==============================] - 6s 118us/step - loss: 1.1976 - acc: 0.5853 - val_loss: 1.4737 - val_acc: 0.4815\n",
            "Epoch 15/50\n",
            "50000/50000 [==============================] - 6s 119us/step - loss: 1.1713 - acc: 0.5974 - val_loss: 1.4654 - val_acc: 0.4815\n",
            "Epoch 16/50\n",
            "50000/50000 [==============================] - 6s 120us/step - loss: 1.1469 - acc: 0.6062 - val_loss: 1.4604 - val_acc: 0.4890\n",
            "Epoch 17/50\n",
            "50000/50000 [==============================] - 6s 118us/step - loss: 1.1247 - acc: 0.6150 - val_loss: 1.4620 - val_acc: 0.4914\n",
            "Epoch 18/50\n",
            "50000/50000 [==============================] - 6s 117us/step - loss: 1.1004 - acc: 0.6246 - val_loss: 1.4468 - val_acc: 0.4922\n",
            "Epoch 19/50\n",
            "50000/50000 [==============================] - 6s 118us/step - loss: 1.0807 - acc: 0.6327 - val_loss: 1.4596 - val_acc: 0.4920\n",
            "Epoch 20/50\n",
            "50000/50000 [==============================] - 6s 119us/step - loss: 1.0561 - acc: 0.6398 - val_loss: 1.4519 - val_acc: 0.4921\n",
            "Epoch 21/50\n",
            "50000/50000 [==============================] - 6s 117us/step - loss: 1.0345 - acc: 0.6503 - val_loss: 1.4638 - val_acc: 0.4898\n",
            "Epoch 22/50\n",
            "50000/50000 [==============================] - 6s 117us/step - loss: 1.0110 - acc: 0.6577 - val_loss: 1.4488 - val_acc: 0.4995\n",
            "Epoch 23/50\n",
            "50000/50000 [==============================] - 6s 119us/step - loss: 0.9911 - acc: 0.6680 - val_loss: 1.4488 - val_acc: 0.4977\n",
            "Epoch 24/50\n",
            "50000/50000 [==============================] - 6s 120us/step - loss: 0.9695 - acc: 0.6754 - val_loss: 1.4496 - val_acc: 0.4942\n",
            "Epoch 25/50\n",
            "50000/50000 [==============================] - 6s 119us/step - loss: 0.9475 - acc: 0.6834 - val_loss: 1.4479 - val_acc: 0.5057\n",
            "Epoch 26/50\n",
            "50000/50000 [==============================] - 6s 119us/step - loss: 0.9269 - acc: 0.6908 - val_loss: 1.4562 - val_acc: 0.4971\n",
            "Epoch 27/50\n",
            "50000/50000 [==============================] - 6s 119us/step - loss: 0.9076 - acc: 0.6983 - val_loss: 1.4602 - val_acc: 0.4952\n",
            "Epoch 28/50\n",
            "50000/50000 [==============================] - 6s 120us/step - loss: 0.8887 - acc: 0.7060 - val_loss: 1.4637 - val_acc: 0.4984\n",
            "Epoch 29/50\n",
            "50000/50000 [==============================] - 6s 121us/step - loss: 0.8658 - acc: 0.7138 - val_loss: 1.4775 - val_acc: 0.4967\n",
            "Epoch 30/50\n",
            "50000/50000 [==============================] - 6s 121us/step - loss: 0.8451 - acc: 0.7237 - val_loss: 1.4776 - val_acc: 0.4974\n",
            "Epoch 31/50\n",
            "50000/50000 [==============================] - 6s 120us/step - loss: 0.8241 - acc: 0.7303 - val_loss: 1.4777 - val_acc: 0.5016\n",
            "Epoch 32/50\n",
            "50000/50000 [==============================] - 6s 119us/step - loss: 0.8048 - acc: 0.7396 - val_loss: 1.4913 - val_acc: 0.5008\n",
            "Epoch 33/50\n",
            "50000/50000 [==============================] - 6s 121us/step - loss: 0.7859 - acc: 0.7474 - val_loss: 1.5015 - val_acc: 0.5008\n",
            "Epoch 34/50\n",
            "50000/50000 [==============================] - 6s 119us/step - loss: 0.7670 - acc: 0.7523 - val_loss: 1.5476 - val_acc: 0.4817\n",
            "Epoch 35/50\n",
            "50000/50000 [==============================] - 6s 120us/step - loss: 0.7468 - acc: 0.7615 - val_loss: 1.5068 - val_acc: 0.4991\n",
            "Epoch 36/50\n",
            "50000/50000 [==============================] - 6s 119us/step - loss: 0.7276 - acc: 0.7695 - val_loss: 1.5272 - val_acc: 0.4903\n",
            "Epoch 37/50\n",
            "50000/50000 [==============================] - 6s 119us/step - loss: 0.7101 - acc: 0.7773 - val_loss: 1.5427 - val_acc: 0.5015\n",
            "Epoch 38/50\n",
            "50000/50000 [==============================] - 6s 119us/step - loss: 0.6902 - acc: 0.7831 - val_loss: 1.5234 - val_acc: 0.5049\n",
            "Epoch 39/50\n",
            "50000/50000 [==============================] - 6s 117us/step - loss: 0.6714 - acc: 0.7922 - val_loss: 1.5497 - val_acc: 0.4977\n",
            "Epoch 40/50\n",
            "50000/50000 [==============================] - 6s 119us/step - loss: 0.6536 - acc: 0.7977 - val_loss: 1.5601 - val_acc: 0.4989\n",
            "Epoch 41/50\n",
            "50000/50000 [==============================] - 6s 117us/step - loss: 0.6338 - acc: 0.8071 - val_loss: 1.5829 - val_acc: 0.4951\n",
            "Epoch 42/50\n",
            "50000/50000 [==============================] - 6s 119us/step - loss: 0.6166 - acc: 0.8127 - val_loss: 1.5786 - val_acc: 0.4948\n",
            "Epoch 43/50\n",
            "50000/50000 [==============================] - 6s 119us/step - loss: 0.6001 - acc: 0.8194 - val_loss: 1.6102 - val_acc: 0.4952\n",
            "Epoch 44/50\n",
            "50000/50000 [==============================] - 6s 118us/step - loss: 0.5828 - acc: 0.8265 - val_loss: 1.6183 - val_acc: 0.4892\n",
            "Epoch 45/50\n",
            "50000/50000 [==============================] - 6s 119us/step - loss: 0.5661 - acc: 0.8324 - val_loss: 1.6167 - val_acc: 0.4926\n",
            "Epoch 46/50\n",
            "50000/50000 [==============================] - 6s 119us/step - loss: 0.5495 - acc: 0.8403 - val_loss: 1.6418 - val_acc: 0.4938\n",
            "Epoch 47/50\n",
            "50000/50000 [==============================] - 6s 119us/step - loss: 0.5312 - acc: 0.8481 - val_loss: 1.6433 - val_acc: 0.4965\n",
            "Epoch 48/50\n",
            "50000/50000 [==============================] - 6s 116us/step - loss: 0.5125 - acc: 0.8561 - val_loss: 1.6591 - val_acc: 0.4958\n",
            "Epoch 49/50\n",
            "50000/50000 [==============================] - 6s 118us/step - loss: 0.4990 - acc: 0.8611 - val_loss: 1.6853 - val_acc: 0.4986\n",
            "Epoch 50/50\n",
            "50000/50000 [==============================] - 6s 119us/step - loss: 0.4816 - acc: 0.8673 - val_loss: 1.6819 - val_acc: 0.4911\n",
            "10000/10000 [==============================] - 2s 156us/step\n",
            "False 1.6818929544448853\n",
            "False 0.4911\n"
          ],
          "name": "stdout"
        },
        {
          "output_type": "display_data",
          "data": {
            "image/png": "[encoded data removed]",
            "text/plain": [
              "<Figure size 432x288 with 1 Axes>"
            ]
          },
          "metadata": {
            "tags": []
          }
        },
        {
          "output_type": "display_data",
          "data": {
            "image/png": "[encoded data removed]",
            "text/plain": [
              "<Figure size 432x288 with 1 Axes>"
            ]
          },
          "metadata": {
            "tags": []
          }
        }
      ]
    },
    {
      "cell_type": "code",
      "metadata": {
        "id": "J1NbSuHJpufV",
        "colab_type": "code",
        "colab": {}
      },
      "source": [
        ""
      ],
      "execution_count": 0,
      "outputs": []
    }
  ]
}