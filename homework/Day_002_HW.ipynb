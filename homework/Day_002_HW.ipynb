{
 "cells": [
  {
   "cell_type": "markdown",
   "metadata": {},
   "source": [
    "## [作業目標]\n",
    "了解機器學習適合應用的領域與範疇。"
   ]
  },
  {
   "cell_type": "markdown",
   "metadata": {},
   "source": [
    "## [作業重點]\n",
    "透過瞭解機器學習的運作方式，找出非常適用機器學習應用的領域及其原因"
   ]
  },
  {
   "cell_type": "markdown",
   "metadata": {},
   "source": [
    "## 作業\n",
    "請找出一個你認為機器學習可以發光發熱的領域並闡述原因? \n",
    "可以透過臉部辨識，確認是否為學校學生，或是公司員工，以提升安保層級。因為目前主要公司行號都是以卡片刷卡來控制人員進出，然而忘了帶卡片有時就很難進入公司，非常不方便，而且，如果他人拿取非本人的卡片就能進入了，有安全的疑慮，所以可以用臉部辨識來增加安全及方便性。\n",
    "資料蒐集部分:可以透過平常監控的影片再核對刷卡的人，再配合關於臉部辨識的公開資料，就能有資料了。\n",
    "可能遇到的困難:資料要足夠，包含有無戴眼鏡、帽子、穿著都會影響辨識結果，因此要增加資料量。還需要把資料進行貼標，以增加準確度。"
   ]
  },
  {
   "cell_type": "code",
   "execution_count": null,
   "metadata": {},
   "outputs": [],
   "source": [
    "   "
   ]
  }
 ],
 "metadata": {
  "kernelspec": {
   "display_name": "Python 3",
   "language": "python",
   "name": "python3"
  },
  "language_info": {
   "codemirror_mode": {
    "name": "ipython",
    "version": 3
   },
   "file_extension": ".py",
   "mimetype": "text/x-python",
   "name": "python",
   "nbconvert_exporter": "python",
   "pygments_lexer": "ipython3",
   "version": "3.7.0"
  }
 },
 "nbformat": 4,
 "nbformat_minor": 2
}
